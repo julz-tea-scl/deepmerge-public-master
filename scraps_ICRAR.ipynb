#Illustis Parameters
import h5py
import pandas as pd
import numpy as np
np.set_printoptions(threshold=np.inf)

file = h5py.File(dir_test + 'nonparametric_morphologies_z.hdf5', 'r')
print(list(file.keys()))
# print all values
for key in file.keys():
    print(np.array(file[key]))
    
# Access the 'snapshot_068' group
snapshot_068 = file['nonparmorphs/snapshot_068']

# List the contents of 'snapshot_068'
print(list(snapshot_068.keys()))

explore = file['nonparmorphs/snapshot_068/WFC3-F160W/CAMERA0']
print(list(explore.keys()))
# gini_c1_F160 = np.array(explore)
# print(gini_c1_F160)
# np.savetxt("gini_c1_F160_output.txt", gini_c1_F160, fmt="%s")

# Close the file when done
file.close()



#Making Own Illustris Morfs_rf Table
with open(dir_test+'stz1059_supplemental_files/illustris_morphs_rf.dat', 'r') as file:
    contents = file.read()

# Write the contents to a new .txt file
with open(dir_test+'illustris_morphs_rf.txt', 'w') as output_file:
    output_file.write(contents)
