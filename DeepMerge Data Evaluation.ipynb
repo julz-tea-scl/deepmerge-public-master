{
 "cells": [
  {
   "cell_type": "code",
   "execution_count": null,
   "metadata": {},
   "outputs": [],
   "source": [
    "import pandas as pd \n",
    "\n",
    "# Set display options to show the full DataFrame \n",
    "pd.set_option('display.max_rows', None) # Show all rows \n",
    "pd.set_option('display.max_columns', None) # Show all columns \n",
    "pd.set_option('display.width', None) # Adjust the width to fit all columns \n",
    "\n",
    "dir_test = \"/home/juliantearney/Downloads/\" # For PC \n",
    "df = pd.read_table(dir_test+'cdfs.v1.6.11.cat', sep=' ') \n",
    "\n",
    "# Display the table \n",
    "print(df)"
   ]
  }
 ],
 "metadata": {
  "kernelspec": {
   "display_name": "Python 3.7.12 ('deepmerge_env')",
   "language": "python",
   "name": "python3"
  },
  "language_info": {
   "codemirror_mode": {
    "name": "ipython",
    "version": 3
   },
   "file_extension": ".py",
   "mimetype": "text/x-python",
   "name": "python",
   "nbconvert_exporter": "python",
   "pygments_lexer": "ipython3",
   "version": "3.7.12"
  },
  "vscode": {
   "interpreter": {
    "hash": "61df618017eb9667dd40723f7c3c309112c55e2ce39f91bd66ccb697e7ad630f"
   }
  }
 },
 "nbformat": 4,
 "nbformat_minor": 2
}
