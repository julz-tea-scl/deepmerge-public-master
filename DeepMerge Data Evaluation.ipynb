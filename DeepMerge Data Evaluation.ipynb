{
 "cells": [
  {
   "cell_type": "code",
   "execution_count": null,
   "metadata": {},
   "outputs": [],
   "source": [
    "import pandas as pd \n",
    "\n",
    "# Set display options to show the full DataFrame \n",
    "pd.set_option('display.max_rows', None) # Show all rows \n",
    "pd.set_option('display.max_columns', None) # Show all columns \n",
    "pd.set_option('display.width', None) # Adjust the width to fit all columns \n",
    "\n",
    "dir_test = \"/home/juliantearney/Downloads/\" # For PC \n",
    "df = pd.read_table(dir_test+'cdfs_v1_6_11.cat', sep=' ') \n",
    "\n",
    "# Display the table \n",
    "print(df)"
   ]
  },
  {
   "cell_type": "code",
   "execution_count": null,
   "metadata": {},
   "outputs": [],
   "source": [
    "import numpy as np\n",
    "import pandas as pd\n",
    "from astropy.io import fits\n",
    "from astropy.wcs import WCS\n",
    "import matplotlib.pyplot as plt\n",
    "from astropy.nddata.utils import Cutout2D\n",
    "from astropy import units as u\n",
    "from astropy.coordinates import SkyCoord\n",
    "from astropy.coordinates import ICRS, Galactic, FK4, FK5\n",
    "\n",
    "# Load the FITS file and WCS header\n",
    "cat_file = '/home/juliantearney/Downloads/cdfs_v1_6_11.cat'  # Path to your catalog file\n",
    "fits_file = '/home/juliantearney/Downloads/jades_356.fits'  # Path to your FITS image\n",
    "\n",
    "# Read the catalog file to get RA/DEC values (assuming 2 columns: RA, DEC)\n",
    "data = pd.read_csv(cat_file, sep=' ', header=0)  # Adjust delimiter if needed\n",
    "data.columns = ['id', 'x', 'y', 'ra', 'dec', 'SEflags', 'iso_area', 'fap_Ksall', 'eap_Ksall', 'apcorr', 'Ks_ratio', 'fapcirc07_Ksall', 'eapcirc07_Ksall', 'apcorr07', 'fcirc07_Ksall', 'ecirc07_Ksall', 'fauto_Ksall', 'flux50_radius', 'a_vector', 'b_vector', 'kron_radius', 'f_Ksall', 'e_Ksall', 'w_Ksall', 'f_B', 'e_B', 'w_B', 'f_I', 'e_I', 'w_I', 'f_R', 'e_R', 'w_R', 'f_U', 'e_U', 'w_U', 'f_V', 'e_V', 'w_V', 'f_Z', 'e_Z', 'w_Z', 'f_Hs', 'e_Hs', 'w_Hs', 'f_Hl', 'e_Hl', 'w_Hl', 'f_J1', 'e_J1', 'w_J1', 'f_J2', 'e_J2', 'w_J2', 'f_J3', 'e_J3', 'w_J3', 'f_Ks', 'e_Ks', 'w_Ks', 'f_KsHI', 'e_KsHI', 'w_KsHI', 'f_NB118', 'e_NB118', 'w_NB118', 'f_NB209', 'e_NB209', 'w_NB209', 'f_F098M', 'e_F098M', 'w_F098M', 'f_F105W', 'e_F105W', 'w_F105W', 'f_F125W', 'e_F125W', 'w_F125W', 'f_F140W', 'e_F140W', 'w_F140W', 'f_F160W', 'e_F160W', 'w_F160W', 'f_F814W', 'e_F814W', 'w_F814W', 'f_IA484', 'e_IA484', 'w_IA484', 'f_IA527', 'e_IA527', 'w_IA527', 'f_IA574', 'e_IA574', 'w_IA574', 'f_IA598', 'e_IA598', 'w_IA598', 'f_IA624', 'e_IA624', 'w_IA624', 'f_IA651', 'e_IA651', 'w_IA651', 'f_IA679', 'e_IA679', 'w_IA679', 'f_IA738', 'e_IA738', 'w_IA738', 'f_IA767', 'e_IA767', 'w_IA767', 'f_IA797', 'e_IA797', 'w_IA797', 'f_IA856', 'e_IA856', 'w_IA856', 'f_WFI_V', 'e_WFI_V', 'w_WFI_V', 'f_WFI_Rc', 'e_WFI_Rc', 'w_WFI_Rc', 'f_WFI_U38', 'e_WFI_U38', 'w_WFI_U38', 'f_tenisK', 'e_tenisK', 'w_tenisK', 'f_IRAC_36', 'e_IRAC_36', 'w_IRAC_36', 'f_IRAC_45', 'e_IRAC_45', 'w_IRAC_45', 'f_IRAC_58', 'e_IRAC_58', 'w_IRAC_58', 'f_IRAC_80', 'e_IRAC_80', 'w_IRAC_80', 'wmin_optical', 'wmin_hst_optical', 'wmin_fs', 'wmin_jhk', 'wmin_hst', 'wmin_irac', 'wmin_all', 'star', 'nearstar', 'use', 'snr', 'use_nosnr', 'z_spec', 'garbage']\n",
    "ra_values = data['ra'].values\n",
    "dec_values = data['dec'].values\n",
    "\n",
    "# Open the FITS image to get the data and header\n",
    "with fits.open(fits_file) as hdul:\n",
    "    image_data = hdul[1].data\n",
    "    header = hdul[1].header\n",
    "\n",
    "# Initialize WCS object\n",
    "wcs = WCS(header)\n",
    "\n",
    "# Convert RA, DEC to pixel coordinates and extract cut-outs\n",
    "cutout_size = 75  # Size of the cutout in pixels\n",
    "half_size = cutout_size // 2\n",
    "\n",
    "size = (75,75)*u.pixel\n",
    "#for ra, dec in zip(ra_values, dec_values) in range(1, 1):\n",
    "\n",
    "ids = [7129, 7172, 7387, 7448, 7453, 7629, 7706, 7814, 7836, 7856, 7867, 7887, 7932, 7968, 8020, 8074, 8116, 8131, 8206, 8207, 8316, 8366, 8366, 8643, 8706, 8851, 8926, 8943, 8946, 9048, 9087, 9101, 9179, 9323, 9371, 9512, 9576, 9586, 9652, 9698, 9805, 9845, 10017, 10050, 10066, 10092, 10092, 10112, 10214, 10224, 10229, 10287, 10316, 10330, 10388, 10415, 10489, 10668, 10677, 10685, 10730, 10804, 10834, 10926, 10930, 10972, 11068, 11137, 11167, 11172, 11181, 11218, 11303, 11541, 11548, 11548, 11714, 11777, 11885, 12030, 12030, 12031, 12047, 12087, 12293, 12307, 12348, 12418, 12421, 12422, 12552, 12552, 12628, 12694, 12761, 12768, 12811, 12824, 12856, 12898, 12903, 12903, 12958, 13155, 13155, 13406, 13939, 13954, 14122, 14286, 14310, 14339, 14467, 14672, 14733, 14994, 15097, 15097, 15111, 15111, 15256, 15401, 15639, 15782, 15870, 15881, 15902, 16072, 16113, 16392, 16476, 16507, 16551, 16705, 16717, 16720, 16764, 16907, 16927, 16933, 17317, 17335, 17408, 17477, 17705, 17719, 17722, 17804, 17810, 17829, 18332, 18459, 18514, 18542, 18645, 18649, 18685, 18691, 18724, 18742, 18742, 18776, 18856, 19172, 19286, 19310, 19417, 19459, 19491, 19590, 19621, 19762, 19796, 19843, 19843, 19863, 19863, 19985, 20027, 20146, 20257, 20257, 20720, 20836, 20836, 20920, 20935, 20988, 21012, 21027, 21067, 21090, 21210, 21297, 21303, 21430, 21435, 21542, 21621, 21678, 21731, 21759, 21955, 21962, 22136, 22136, 22309, 22545, 22590, 22654, 22768, 22768, 22771, 22909, 22909, 22919, 23047, 23168, 23185, 23412, 23421, 23488, 23511, 23511, 23589, 23751, 23833, 23841, 23898, 24110, 24179, 24500, 24506]\n",
    "\n",
    "for i in ids:\n",
    "    # pos = SkyCoord(53.16285502, -27.77169206, unit='deg', frame='icrs')\n",
    "    pos = SkyCoord(ra_values[i], dec_values[i], unit='deg', frame='icrs')\n",
    "\n",
    "    cutout = Cutout2D(image_data, pos, size=size, wcs=wcs)\n",
    "    \n",
    "    plt.imshow(cutout.data, cmap='plasma', origin = 'lower', vmax=np.percentile(cutout.data, 99.9),vmin=np.percentile(cutout.data, 1) )\n",
    "    plt.colorbar()\n",
    "    plt.show()"
   ]
  }
 ],
 "metadata": {
  "kernelspec": {
   "display_name": "Python 3.7.12 ('deepmerge_env')",
   "language": "python",
   "name": "python3"
  },
  "language_info": {
   "codemirror_mode": {
    "name": "ipython",
    "version": 3
   },
   "file_extension": ".py",
   "mimetype": "text/x-python",
   "name": "python",
   "nbconvert_exporter": "python",
   "pygments_lexer": "ipython3",
   "version": "3.7.12"
  },
  "vscode": {
   "interpreter": {
    "hash": "61df618017eb9667dd40723f7c3c309112c55e2ce39f91bd66ccb697e7ad630f"
   }
  }
 },
 "nbformat": 4,
 "nbformat_minor": 2
}
