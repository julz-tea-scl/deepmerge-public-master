{
 "cells": [
  {
   "cell_type": "code",
   "execution_count": 2,
   "id": "d82e1273",
   "metadata": {
    "scrolled": true
   },
   "outputs": [],
   "source": [
    "from astropy.io import fits\n",
    "import numpy as np\n",
    "from astropy import units as u\n",
    "import pandas as pd"
   ]
  },
  {
   "cell_type": "code",
   "execution_count": 3,
   "id": "ca75a9bf",
   "metadata": {},
   "outputs": [],
   "source": [
    "cat_file = '/home/juliantearney/Downloads/cdfs_v1_6_11.cat'\n",
    "data = pd.read_csv(cat_file, sep=' ', header=0)\n",
    "data.columns = ['id', 'x', 'y', 'ra', 'dec', 'SEflags', 'iso_area', 'fap_Ksall', 'eap_Ksall', 'apcorr', 'Ks_ratio', 'fapcirc07_Ksall', 'eapcirc07_Ksall', 'apcorr07', 'fcirc07_Ksall', 'ecirc07_Ksall', 'fauto_Ksall', 'flux50_radius', 'a_vector', 'b_vector', 'kron_radius', 'f_Ksall', 'e_Ksall', 'w_Ksall', 'f_B', 'e_B', 'w_B', 'f_I', 'e_I', 'w_I', 'f_R', 'e_R', 'w_R', 'f_U', 'e_U', 'w_U', 'f_V', 'e_V', 'w_V', 'f_Z', 'e_Z', 'w_Z', 'f_Hs', 'e_Hs', 'w_Hs', 'f_Hl', 'e_Hl', 'w_Hl', 'f_J1', 'e_J1', 'w_J1', 'f_J2', 'e_J2', 'w_J2', 'f_J3', 'e_J3', 'w_J3', 'f_Ks', 'e_Ks', 'w_Ks', 'f_KsHI', 'e_KsHI', 'w_KsHI', 'f_NB118', 'e_NB118', 'w_NB118', 'f_NB209', 'e_NB209', 'w_NB209', 'f_F098M', 'e_F098M', 'w_F098M', 'f_F105W', 'e_F105W', 'w_F105W', 'f_F125W', 'e_F125W', 'w_F125W', 'f_F140W', 'e_F140W', 'w_F140W', 'f_F160W', 'e_F160W', 'w_F160W', 'f_F814W', 'e_F814W', 'w_F814W', 'f_IA484', 'e_IA484', 'w_IA484', 'f_IA527', 'e_IA527', 'w_IA527', 'f_IA574', 'e_IA574', 'w_IA574', 'f_IA598', 'e_IA598', 'w_IA598', 'f_IA624', 'e_IA624', 'w_IA624', 'f_IA651', 'e_IA651', 'w_IA651', 'f_IA679', 'e_IA679', 'w_IA679', 'f_IA738', 'e_IA738', 'w_IA738', 'f_IA767', 'e_IA767', 'w_IA767', 'f_IA797', 'e_IA797', 'w_IA797', 'f_IA856', 'e_IA856', 'w_IA856', 'f_WFI_V', 'e_WFI_V', 'w_WFI_V', 'f_WFI_Rc', 'e_WFI_Rc', 'w_WFI_Rc', 'f_WFI_U38', 'e_WFI_U38', 'w_WFI_U38', 'f_tenisK', 'e_tenisK', 'w_tenisK', 'f_IRAC_36', 'e_IRAC_36', 'w_IRAC_36', 'f_IRAC_45', 'e_IRAC_45', 'w_IRAC_45', 'f_IRAC_58', 'e_IRAC_58', 'w_IRAC_58', 'f_IRAC_80', 'e_IRAC_80', 'w_IRAC_80', 'wmin_optical', 'wmin_hst_optical', 'wmin_fs', 'wmin_jhk', 'wmin_hst', 'wmin_irac', 'wmin_all', 'star', 'nearstar', 'use', 'snr', 'use_nosnr', 'z_spec', 'garbage']\n",
    "ra_values = data['ra'].values\n",
    "dec_values = data['dec'].values\n",
    "z_spec = data['z_spec'].values\n",
    "gal_ids = np.array([7172, 7448, 7453, 7629, 7706, 7814, 7836, 7856, 7867, 7887, 7932, 7968, 8020,\n",
    "           8074, 8116, 8131, 8206, 8207, 8316, 8366, 8643, 8706, 8851, 8926, 8943, 8946,\n",
    "           9048, 9087, 9101, 9179, 9323, 9371, 9512, 9576, 9586, 9652, 9698, 9805, 10017,\n",
    "           10050, 10066, 10214, 10224, 10229, 10287, 10316, 10330, 10415, 10489, 10668, 10677,\n",
    "           10685, 10804, 10834, 10926, 10930, 10972, 11068, 11137, 11167, 11172, 11181, 11218,\n",
    "           11303, 11548, 11714, 11777, 11885, 12031, 12047, 12087, 12293, 12307, 12348, 12418, 12421,\n",
    "           12422, 12552, 12628, 12761, 12768, 12811, 12856, 12898, 12903, 12958, 13155, 13406, 13939,\n",
    "           13954, 14122, 14286, 14310, 14339, 14467, 14672, 14733, 14994, 15097, 15111, 15256, 15401,\n",
    "           15639, 15782, 15870, 15881, 15902, 16072, 16392, 16476, 16507, 16551, 16720, 16927, 17317, 17335,\n",
    "           17408, 17719, 17722, 17804, 17810, 17829, 18332, 18459, 18514, 18542, 18645, 18649, 18691, 18742,\n",
    "           18856, 19172, 19286, 19310, 19417, 19459, 19491, 19621, 19762, 19796, 19863, 19985, 20257, 20920, 20935,\n",
    "           21027, 21067, 21297, 21303, 21435, 21731, 21759, 21962, 22136, 22590, 22771, 22919, 23168, 23185, 23488, 23833, 23898, 24110]).astype(int)\n",
    "index_arr =[]\n",
    "for i in gal_ids:\n",
    "    index = np.where(data['id'] == i)[0][0]\n",
    "    index_arr.append(index)\n",
    "index_arr = np.array(index_arr).astype(int)    \n",
    "\n",
    "datapath = '/home/juliantearney/Downloads/'\n",
    "c0 = fits.open(datapath+'hlsp_jades_jwst_nircam_goods-s-deep_photometry_v2.0_catalog.fits')\n",
    "\n",
    "def find_galaxy(catalog, ra_target, dec_target, tolerance=1e-6):\n",
    "    \"\"\"\n",
    "    Find a galaxy in a catalog by matching RA and DEC within a specified tolerance.\n",
    "\n",
    "    Parameters:\n",
    "        catalog (list of dict): The catalog, where each entry is a dictionary with 'RA' and 'DEC'.\n",
    "        ra_target (float): The RA of the galaxy to match.\n",
    "        dec_target (float): The DEC of the galaxy to match.\n",
    "        tolerance (float): The tolerance for matching RA and DEC (default: 1e-6 degrees).\n",
    "\n",
    "    Returns:\n",
    "        list of dict: A list of galaxies matching the target RA and DEC.\n",
    "    \"\"\"\n",
    "    matched_galaxies = []\n",
    "\n",
    "    for galaxy in catalog:\n",
    "        ra_diff = abs(galaxy['RA'] - ra_target)\n",
    "        dec_diff = abs(galaxy['DEC'] - dec_target)\n",
    "        \n",
    "        # Check if both RA and DEC differences are within the tolerance\n",
    "        if ra_diff <= tolerance and dec_diff <= tolerance:\n",
    "            matched_galaxies.append(galaxy['ID']) # Also appe\n",
    "    \n",
    "    return matched_galaxies"
   ]
  },
  {
   "cell_type": "code",
   "execution_count": 4,
   "id": "ecdb5c83",
   "metadata": {},
   "outputs": [],
   "source": [
    "target_ra_values = ra_values[index_arr]\n",
    "target_dec_values = dec_values[index_arr]\n",
    "target_z_spec_values = z_spec[index_arr]"
   ]
  },
  {
   "cell_type": "code",
   "execution_count": 5,
   "id": "24270218",
   "metadata": {},
   "outputs": [
    {
     "data": {
      "text/plain": [
       "array([53.11341212, 53.11363908, 53.1132915 , ..., 53.13286838,\n",
       "       53.12923732, 53.22324066], shape=(94000,), dtype='>f8')"
      ]
     },
     "execution_count": 5,
     "metadata": {},
     "output_type": "execute_result"
    }
   ],
   "source": [
    "c0[3].data['RA']"
   ]
  },
  {
   "cell_type": "code",
   "execution_count": 9,
   "id": "84aa8885",
   "metadata": {},
   "outputs": [
    {
     "name": "stdout",
     "output_type": "stream",
     "text": [
      "0.0018229166666666667\n"
     ]
    }
   ],
   "source": [
    "tol= (35*0.1875)*u.arcsec.to(u.deg)\n",
    "print(tol)\n",
    "matched_galaxies = []\n",
    "for i in range(target_ra_values.size):\n",
    "    matched_galaxies.append(find_galaxy(catalog=c0[3].data, ra_target=target_ra_values[i], dec_target=target_dec_values[i], tolerance=tol))"
   ]
  },
  {
   "cell_type": "code",
   "execution_count": 10,
   "id": "3752a838",
   "metadata": {},
   "outputs": [
    {
     "data": {
      "text/plain": [
       "163"
      ]
     },
     "execution_count": 10,
     "metadata": {},
     "output_type": "execute_result"
    }
   ],
   "source": [
    "len(matched_galaxies)"
   ]
  },
  {
   "cell_type": "code",
   "execution_count": 11,
   "id": "c179c8d0",
   "metadata": {},
   "outputs": [],
   "source": [
    "catalog_index = []\n",
    "for i in range(len(target_ra_values)): # looping through our target galaxies\n",
    "    index = []\n",
    "    for j in range(len(matched_galaxies[i])):  # looping through our matched catalog galaxies\n",
    "        index .append(np.where(c0[3].data['id'] == matched_galaxies[i][j])[0][0])\n",
    "        \n",
    "    catalog_index.append(index)\n",
    "catalog_index = np.array(catalog_index, object)\n"
   ]
  },
  {
   "cell_type": "code",
   "execution_count": 12,
   "id": "c9017c11",
   "metadata": {},
   "outputs": [],
   "source": [
    "np.save('catalog_index', catalog_index)"
   ]
  },
  {
   "cell_type": "code",
   "execution_count": 13,
   "id": "ac39ef84",
   "metadata": {},
   "outputs": [
    {
     "data": {
      "text/plain": [
       "(37, 55)"
      ]
     },
     "execution_count": 13,
     "metadata": {},
     "output_type": "execute_result"
    }
   ],
   "source": [
    "len(catalog_index[0]), len(catalog_index[1])"
   ]
  },
  {
   "cell_type": "code",
   "execution_count": 14,
   "id": "72303cc6",
   "metadata": {},
   "outputs": [],
   "source": [
    "target_index = 162 # index to our galaxies\n",
    "\n",
    "ra_catalog  = c0[3] .data['RA']      [catalog_index[target_index]]\n",
    "dec_catalog = c0[3] .data['DEC']     [catalog_index[target_index]]\n",
    "phot_z      = c0[-1].data['EAZY_z_a'][catalog_index[target_index]]\n",
    "z_99l       = c0[-1].data['EAZY_l99'][catalog_index[target_index]] #\n",
    "z_99u       = c0[-1].data['EAZY_u99'][catalog_index[target_index]]"
   ]
  },
  {
   "cell_type": "code",
   "execution_count": 15,
   "id": "cb503b16",
   "metadata": {},
   "outputs": [
    {
     "data": {
      "text/plain": [
       "np.float64(-99.0)"
      ]
     },
     "execution_count": 15,
     "metadata": {},
     "output_type": "execute_result"
    }
   ],
   "source": [
    "target_z_spec_values[4]"
   ]
  },
  {
   "cell_type": "code",
   "execution_count": 24,
   "id": "69833ef9",
   "metadata": {},
   "outputs": [
    {
     "name": "stderr",
     "output_type": "stream",
     "text": [
      "WARNING: FITSFixedWarning: 'datfix' made the change 'Set DATE-BEG to '2022-10-07T22:22:51.034' from MJD-BEG.\n",
      "Set DATE-AVG to '2022-10-08T01:38:08.426' from MJD-AVG.\n",
      "Set DATE-END to '2022-10-08T04:53:29.401' from MJD-END'. [astropy.wcs.wcs]\n",
      "WARNING: FITSFixedWarning: 'obsfix' made the change 'Set OBSGEO-L to     8.844531 from OBSGEO-[XYZ].\n",
      "Set OBSGEO-B to    22.225686 from OBSGEO-[XYZ].\n",
      "Set OBSGEO-H to 1235003121.785 from OBSGEO-[XYZ]'. [astropy.wcs.wcs]\n"
     ]
    },
    {
     "name": "stdout",
     "output_type": "stream",
     "text": [
      "pos ra: 53.1717606 deg & pos dec: -27.733628633333332 deg\n"
     ]
    },
    {
     "data": {
      "image/png": "[encoded data removed]",
      "text/plain": [
       "<Figure size 640x480 with 1 Axes>"
      ]
     },
     "metadata": {},
     "output_type": "display_data"
    }
   ],
   "source": [
    "import numpy as np\n",
    "import matplotlib.pyplot as plt\n",
    "from astropy.coordinates import SkyCoord\n",
    "from photutils.datasets import make_100gaussians_image\n",
    "from astropy.wcs import WCS\n",
    "from photutils.segmentation import make_2dgaussian_kernel, detect_sources, deblend_sources\n",
    "from photutils.background import Background2D, MedianBackground, SExtractorBackground\n",
    "from photutils.segmentation import SourceCatalog, SegmentationImage\n",
    "from astropy.visualization import simple_norm\n",
    "from astropy.nddata import NDData\n",
    "from astropy import units as u\n",
    "from photutils.segmentation import detect_threshold\n",
    "import matplotlib as mpl\n",
    "# NFFT for Fourier Transforms\n",
    "import nfft\n",
    "import os\n",
    "import sys\n",
    "from IPython.display import display, HTML\n",
    "# Astropy Cosmology\n",
    "from astropy.cosmology import Planck18, FlatLambdaCDM\n",
    "import pandas as pd  # Importing pandas\n",
    "from astropy.io import fits\n",
    "from astropy.nddata.utils import Cutout2D\n",
    "from astropy import units as u\n",
    "from scipy.ndimage import zoom\n",
    "from skimage.transform import resize\n",
    "from astropy.convolution import convolve, Gaussian2DKernel\n",
    "from photutils.segmentation import deblend_sources\n",
    "\n",
    "\n",
    "fits_file = '/home/juliantearney/Downloads/jades_356.fits'\n",
    "\n",
    "# Load the FITS image\n",
    "with fits.open(fits_file) as hdul:\n",
    "    image_data = hdul[1].data\n",
    "    header = hdul[1].header\n",
    "\n",
    "wcs = WCS(header)\n",
    "\n",
    "pos = SkyCoord(target_ra_values[target_index]*u.deg, target_dec_values[target_index]*u.deg-0.3*u.arcsecond, frame='icrs')\n",
    "print(f'pos ra: {pos.ra} & pos dec: {pos.dec}')\n",
    "size = (450, 450) * u.pixel\n",
    "cutout = Cutout2D(image_data, pos, size=size, wcs=wcs)\n",
    "zoom_factor = 0.159971962\n",
    "zoomed_image = zoom(cutout.data, zoom_factor)\n",
    "\n",
    "catalog_coords = SkyCoord(ra_catalog * u.deg, dec_catalog * u.deg, frame='icrs')\n",
    "catalog_px, catalog_py = cutout.wcs.world_to_pixel(catalog_coords)\n",
    "\n",
    "target_coords = SkyCoord(target_ra_values[target_index] * u.deg, target_dec_values[target_index] * u.deg, frame='icrs')\n",
    "target_px, target_py = cutout.wcs.world_to_pixel(target_coords)\n",
    "\n",
    "# Plot the overlaid RA/Dec points\n",
    "\n",
    "norm_img = simple_norm(zoomed_image, 'log')\n",
    "plt.subplot(111, projection=cutout.wcs)\n",
    "plt.imshow(zoomed_image, origin=\"lower\", cmap=\"plasma\", norm=norm_img)\n",
    "#plt.plot(ra_catalog*u.deg.to(u.hourangle), dec_catalog, marker='o', markersize=5, ls='')\n",
    "plt.plot(catalog_px*zoom_factor, catalog_py*zoom_factor, marker='o', color='g', markersize=5, linestyle='')\n",
    "\n",
    "plt.plot(target_px*zoom_factor, target_py*zoom_factor, marker='D', color='lawngreen', markersize=7, linestyle='')\n",
    "\n",
    "plt.title(\"Original Image\")\n",
    "plt.xlabel(\"RA\")\n",
    "plt.ylabel(\"Dec\")\n",
    "\n",
    "plt.tight_layout()\n",
    "plt.show()\n"
   ]
  },
  {
   "cell_type": "code",
   "execution_count": null,
   "id": "ec8b134b",
   "metadata": {},
   "outputs": [],
   "source": []
  }
 ],
 "metadata": {
  "kernelspec": {
   "display_name": "Python 3.12.7 ('base')",
   "language": "python",
   "name": "python3"
  },
  "language_info": {
   "codemirror_mode": {
    "name": "ipython",
    "version": 3
   },
   "file_extension": ".py",
   "mimetype": "text/x-python",
   "name": "python",
   "nbconvert_exporter": "python",
   "pygments_lexer": "ipython3",
   "version": "3.12.7"
  },
  "vscode": {
   "interpreter": {
    "hash": "6bd79dd0480b82f517de9d69d35a2199d43d8ffaa9c0f25612fae959aaf97067"
   }
  }
 },
 "nbformat": 4,
 "nbformat_minor": 5
}
