{
 "cells": [
  {
   "cell_type": "code",
   "execution_count": 1,
   "id": "d82e1273",
   "metadata": {
    "scrolled": true
   },
   "outputs": [],
   "source": [
    "from astropy.io import fits\n",
    "import numpy as np"
   ]
  },
  {
   "cell_type": "code",
   "execution_count": null,
   "id": "ca75a9bf",
   "metadata": {},
   "outputs": [],
   "source": [
    "datapath = '/media/himanshu/MyHDD/data_galaxy_evolution'\n",
    "c0 = fits.open(datapath+'/data/catalog/hlsp_jades_jwst_nircam_goods-s-deep_photometry_v2.0_catalog.fits')\n",
    "\n",
    "def find_galaxy(catalog, ra_target, dec_target, tolerance=1e-6):\n",
    "    \"\"\"\n",
    "    Find a galaxy in a catalog by matching RA and DEC within a specified tolerance.\n",
    "\n",
    "    Parameters:\n",
    "        catalog (list of dict): The catalog, where each entry is a dictionary with 'RA' and 'DEC'.\n",
    "        ra_target (float): The RA of the galaxy to match.\n",
    "        dec_target (float): The DEC of the galaxy to match.\n",
    "        tolerance (float): The tolerance for matching RA and DEC (default: 1e-6 degrees).\n",
    "\n",
    "    Returns:\n",
    "        list of dict: A list of galaxies matching the target RA and DEC.\n",
    "    \"\"\"\n",
    "    matched_galaxies = []\n",
    "\n",
    "    for galaxy in catalog:\n",
    "        ra_diff = abs(galaxy['RA'] - ra_target)\n",
    "        dec_diff = abs(galaxy['DEC'] - dec_target)\n",
    "        \n",
    "        # Check if both RA and DEC differences are within the tolerance\n",
    "        if ra_diff <= tolerance and dec_diff <= tolerance:\n",
    "            matched_galaxies.append(galaxy['ID'])\n",
    "    \n",
    "    return matched_galaxies"
   ]
  },
  {
   "cell_type": "code",
   "execution_count": null,
   "id": "0fcbff77",
   "metadata": {},
   "outputs": [],
   "source": [
    "matching_IDS = []\n",
    "tol=0.0003\n",
    "for i in range(data.size):\n",
    "    if use_control==True:\n",
    "        AA = find_galaxy(catalog=c0[2].data, ra_target=data['RA'][i], dec_target=data['dec'][i], tolerance=tol)\n",
    "    matching_IDS.append([AA, data[i]['id']])"
   ]
  },
  {
   "cell_type": "code",
   "execution_count": null,
   "id": "59ed7a2b",
   "metadata": {},
   "outputs": [],
   "source": [
    "#checking_redshifts\n",
    "matching_redshifts = []\n",
    "for i in range(len(matching_indices)):\n",
    "    if len(matching_indices[i][0]) < 1:\n",
    "        cat_z = [data['zphot'][matching_indices[i][1]], data['zspec'][matching_indices[i][1]]]\n",
    "        matching_redshifts.append([[np.nan], cat_z])\n",
    "        \n",
    "    elif len(matching_indices[i][0]) > 1:\n",
    "        match_z = []\n",
    "        for j in range(len(matching_indices[i])):\n",
    "            \n",
    "            match_z.append(c0[-1].data['EAZY_z_a'][matching_indices[i][0][j]])\n",
    "            \n",
    "        print(match_z)\n",
    "        cat_z = [data['zphot'][matching_indices[i][1]], data['zspec'][matching_indices[i][1]]]\n",
    "        matching_redshifts.append([match_z, cat_z])\n",
    "    else:\n",
    "        cat_z = [data['zphot'][matching_indices[i][1]], data['zspec'][matching_indices[i][1]]]\n",
    "        match_z = c0[-1].data['EAZY_z_a'][matching_indices[i][0][0]]\n",
    "        print(match_z)\n",
    "        matching_redshifts.append([[match_z], cat_z])\n"
   ]
  },
  {
   "cell_type": "code",
   "execution_count": null,
   "id": "8caccd4e",
   "metadata": {},
   "outputs": [],
   "source": [
    "catalog_ids = c0[-1].data['ID']\n",
    "phot_z      = c0[-1].data['EAZY_z_a']\n",
    "z_68l       = c0[-1].data['EAZY_l68']\n",
    "z_68u       = c0[-1].data['EAZY_u68']\n",
    "z_95l       = c0[-1].data['EAZY_l95']\n",
    "z_95u       = c0[-1].data['EAZY_u95']\n",
    "z_99l       = c0[-1].data['EAZY_l99']\n",
    "z_99u       = c0[-1].data['EAZY_u99']\n",
    "control_ids = data['id'].astype(int)\n",
    "#ind_ = np.where((z_99u - z_99l) < 0.2)[0]\n",
    "#\n",
    "\n",
    "phot_z_arr= []\n",
    "z_68l_arr = []\n",
    "z_68u_arr = []\n",
    "z_95l_arr = []\n",
    "z_95u_arr = []\n",
    "z_99l_arr = []\n",
    "z_99u_arr = []\n",
    "for i in range(len(predicted_match)):\n",
    "    #catalog_ids = catalog_ids[ind_]\n",
    "    \n",
    "    try:\n",
    "        print(int(predicted_match[i][0]))\n",
    "        phot_z_arr     .append(phot_z     [int(predicted_match[i][0])])\n",
    "        z_68l_arr      .append(z_68l      [int(predicted_match[i][0])])\n",
    "        z_68u_arr      .append(z_68u      [int(predicted_match[i][0])])\n",
    "        z_95l_arr      .append(z_95l      [int(predicted_match[i][0])])\n",
    "        z_95u_arr      .append(z_95u      [int(predicted_match[i][0])])\n",
    "        z_99l_arr      .append(z_99l      [int(predicted_match[i][0])])\n",
    "        z_99u_arr      .append(z_99u      [int(predicted_match[i][0])])\n",
    "    except:\n",
    "        print(predicted_match[i][0])\n",
    "phot_z_arr = np.array(phot_z_arr)\n",
    "z_68l_arr  = np.array(z_68l_arr )\n",
    "z_68u_arr  = np.array(z_68u_arr )\n",
    "z_95l_arr  = np.array(z_95l_arr )\n",
    "z_95u_arr  = np.array(z_95u_arr )\n",
    "z_99l_arr  = np.array(z_99l_arr )\n",
    "z_99u_arr  = np.array(z_99u_arr )"
   ]
  },
  {
   "cell_type": "code",
   "execution_count": null,
   "id": "94b1f650",
   "metadata": {},
   "outputs": [],
   "source": []
  }
 ],
 "metadata": {
  "kernelspec": {
   "display_name": "Python 3 (ipykernel)",
   "language": "python",
   "name": "python3"
  },
  "language_info": {
   "codemirror_mode": {
    "name": "ipython",
    "version": 3
   },
   "file_extension": ".py",
   "mimetype": "text/x-python",
   "name": "python",
   "nbconvert_exporter": "python",
   "pygments_lexer": "ipython3",
   "version": "3.12.3"
  }
 },
 "nbformat": 4,
 "nbformat_minor": 5
}
